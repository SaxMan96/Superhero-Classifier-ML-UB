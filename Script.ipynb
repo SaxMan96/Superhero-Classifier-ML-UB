{
 "cells": [
  {
   "cell_type": "markdown",
   "metadata": {},
   "source": [
    "# Imports"
   ]
  },
  {
   "cell_type": "code",
   "execution_count": 81,
   "metadata": {},
   "outputs": [],
   "source": [
    "import numpy as np\n",
    "import pandas as pd\n",
    "from IPython.display import display"
   ]
  },
  {
   "cell_type": "markdown",
   "metadata": {},
   "source": [
    "# Load Data"
   ]
  },
  {
   "cell_type": "code",
   "execution_count": 82,
   "metadata": {
    "scrolled": true
   },
   "outputs": [],
   "source": [
    "def load_data() -> pd.Series:\n",
    "    csv_train = pd.read_csv('superhero-or-supervillain/train.csv').assign(train = 1) \n",
    "    csv_test = pd.read_csv('superhero-or-supervillain/test.csv').assign(train = 0) \n",
    "    csv = pd.concat([csv_train,csv_test], sort=True)\n",
    "    return csv"
   ]
  },
  {
   "cell_type": "markdown",
   "metadata": {},
   "source": [
    "# Analyze Data"
   ]
  },
  {
   "cell_type": "code",
   "execution_count": 83,
   "metadata": {
    "scrolled": true
   },
   "outputs": [],
   "source": [
    "def nans_ctr(csv) -> pd.Series:\n",
    "    return csv.isna().sum()\n",
    "\n",
    "def unique_ctr(csv) -> pd.Series():\n",
    "    unique = pd.Series()\n",
    "    for col in list(csv):\n",
    "        if(csv.columns.contains(col)):\n",
    "            unique.at[col] = len(csv[col].unique())\n",
    "    return unique\n",
    "\n",
    "def val_types(csv) -> pd.Series():\n",
    "    val_type = pd.Series()\n",
    "    for col in list(csv):\n",
    "        if not csv.columns.contains(col):\n",
    "            continue\n",
    "        if csv[col].dtype == np.float64:\n",
    "            val_type.at[col] = np.float64\n",
    "        elif csv[col].dtype == np.int64:\n",
    "            val_type.at[col] = np.int64\n",
    "        elif csv[col].dtype == np.int32:\n",
    "            val_type.at[col] = np.int32\n",
    "        elif csv[col].dtype == object:\n",
    "            val_type.at[col] = object\n",
    "        elif csv[col].dtype == bool:\n",
    "            val_type.at[col] = bool\n",
    "        else:\n",
    "            print(f\"No common value type found in val_types() - {csv[col].dtype}\")\n",
    "    return val_type\n",
    "\n",
    "def min_max_val(csv) -> pd.Series():\n",
    "    min_val = pd.Series()\n",
    "    max_val = pd.Series()\n",
    "    val_type = val_types(csv)\n",
    "    for col in list(csv):\n",
    "        if val_type[col] != object:\n",
    "            min_val.at[col] = csv[col].min()\n",
    "            max_val.at[col] = csv[col].max()\n",
    "        else:    \n",
    "            min_val.at[col] = None\n",
    "            max_val.at[col] = None\n",
    "    return min_val, max_val        \n",
    "            \n",
    "def get_stats(csv):\n",
    "    nans = nans_ctr(csv)\n",
    "    unique = unique_ctr(csv)\n",
    "    val_type = val_types(csv)\n",
    "    min_val, max_val = min_max_val(csv)\n",
    "    result = pd.DataFrame({ 'nans': nans, 'unique': unique, 'val_type': val_type, 'min_val': min_val, 'max_val': max_val}) \n",
    "    return result"
   ]
  },
  {
   "cell_type": "code",
   "execution_count": 84,
   "metadata": {},
   "outputs": [
    {
     "name": "stdout",
     "output_type": "stream",
     "text": [
      "                              nans  unique                 val_type min_val max_val\n",
      "Accelerated Healing           0     2       <class 'bool'>           False   True  \n",
      "Adaptation                    0     2       <class 'bool'>           False   True  \n",
      "Agility                       0     2       <class 'bool'>           False   True  \n",
      "Alignment                     262   4       <class 'object'>         None    None  \n",
      "Animal Attributes             0     2       <class 'bool'>           False   True  \n",
      "Animal Control                0     2       <class 'bool'>           False   True  \n",
      "Animal Oriented Powers        0     2       <class 'bool'>           False   True  \n",
      "Animation                     0     2       <class 'bool'>           False   True  \n",
      "Anti-Gravity                  0     2       <class 'bool'>           False   True  \n",
      "Astral Projection             0     2       <class 'bool'>           False   True  \n",
      "Astral Travel                 0     2       <class 'bool'>           False   True  \n",
      "Audio Control                 0     2       <class 'bool'>           False   True  \n",
      "Banish                        0     2       <class 'bool'>           False   True  \n",
      "Biokinesis                    0     2       <class 'bool'>           False   True  \n",
      "Camouflage                    0     2       <class 'bool'>           False   True  \n",
      "Changing Armor                0     2       <class 'bool'>           False   True  \n",
      "Clairvoyance                  0     2       <class 'bool'>           False   True  \n",
      "Cloaking                      0     2       <class 'bool'>           False   True  \n",
      "Cold Resistance               0     2       <class 'bool'>           False   True  \n",
      "Cryokinesis                   0     2       <class 'bool'>           False   True  \n",
      "Danger Sense                  0     2       <class 'bool'>           False   True  \n",
      "Darkforce Manipulation        0     2       <class 'bool'>           False   True  \n",
      "Death Touch                   0     2       <class 'bool'>           False   True  \n",
      "Density Control               0     2       <class 'bool'>           False   True  \n",
      "Dexterity                     0     2       <class 'bool'>           False   True  \n",
      "Dimensional Awareness         0     2       <class 'bool'>           False   True  \n",
      "Dimensional Travel            0     2       <class 'bool'>           False   True  \n",
      "Duplication                   0     2       <class 'bool'>           False   True  \n",
      "Durability                    0     2       <class 'bool'>           False   True  \n",
      "Echolocation                  0     2       <class 'bool'>           False   True  \n",
      "Elasticity                    0     2       <class 'bool'>           False   True  \n",
      "Electrical Transport          0     2       <class 'bool'>           False   True  \n",
      "Electrokinesis                0     2       <class 'bool'>           False   True  \n",
      "Element Control               0     2       <class 'bool'>           False   True  \n",
      "Elemental Transmogrification  0     2       <class 'bool'>           False   True  \n",
      "Empathy                       0     2       <class 'bool'>           False   True  \n",
      "Energy Absorption             0     2       <class 'bool'>           False   True  \n",
      "Energy Armor                  0     2       <class 'bool'>           False   True  \n",
      "Energy Beams                  0     2       <class 'bool'>           False   True  \n",
      "Energy Blasts                 0     2       <class 'bool'>           False   True  \n",
      "Energy Constructs             0     2       <class 'bool'>           False   True  \n",
      "Energy Manipulation           0     2       <class 'bool'>           False   True  \n",
      "Energy Resistance             0     2       <class 'bool'>           False   True  \n",
      "Enhanced Hearing              0     2       <class 'bool'>           False   True  \n",
      "Enhanced Memory               0     2       <class 'bool'>           False   True  \n",
      "Enhanced Senses               0     2       <class 'bool'>           False   True  \n",
      "Enhanced Sight                0     2       <class 'bool'>           False   True  \n",
      "Enhanced Smell                0     2       <class 'bool'>           False   True  \n",
      "Enhanced Touch                0     2       <class 'bool'>           False   True  \n",
      "Eye color                     128   23      <class 'object'>         None    None  \n",
      "Fire Control                  0     2       <class 'bool'>           False   True  \n",
      "Fire Resistance               0     2       <class 'bool'>           False   True  \n",
      "Flight                        0     2       <class 'bool'>           False   True  \n",
      "Force Fields                  0     2       <class 'bool'>           False   True  \n",
      "Gender                        17    3       <class 'object'>         None    None  \n",
      "Gliding                       0     2       <class 'bool'>           False   True  \n",
      "Gravity Control               0     2       <class 'bool'>           False   True  \n",
      "Grim Reaping                  0     2       <class 'bool'>           False   True  \n",
      "Hair Manipulation             0     2       <class 'bool'>           False   True  \n",
      "Hair color                    129   30      <class 'object'>         None    None  \n",
      "Heat Generation               0     2       <class 'bool'>           False   True  \n",
      "Heat Resistance               0     2       <class 'bool'>           False   True  \n",
      "Height                        0     52      <class 'numpy.float64'> -99      975   \n",
      "Hyperkinesis                  0     2       <class 'bool'>           False   True  \n",
      "Hypnokinesis                  0     2       <class 'bool'>           False   True  \n",
      "Id                            0     391     <class 'numpy.int64'>    0       390   \n",
      "Illumination                  0     2       <class 'bool'>           False   True  \n",
      "Illusions                     0     2       <class 'bool'>           False   True  \n",
      "Immortality                   0     2       <class 'bool'>           False   True  \n",
      "Insanity                      0     2       <class 'bool'>           False   True  \n",
      "Intangibility                 0     2       <class 'bool'>           False   True  \n",
      "Intelligence                  0     2       <class 'bool'>           False   True  \n",
      "Intuitive aptitude            0     2       <class 'bool'>           False   True  \n",
      "Invisibility                  0     2       <class 'bool'>           False   True  \n",
      "Invulnerability               0     2       <class 'bool'>           False   True  \n",
      "Jump                          0     2       <class 'bool'>           False   True  \n",
      "Lantern Power Ring            0     2       <class 'bool'>           False   True  \n",
      "Levitation                    0     2       <class 'bool'>           False   True  \n",
      "Light Control                 0     2       <class 'bool'>           False   True  \n",
      "Longevity                     0     2       <class 'bool'>           False   True  \n",
      "Magic                         0     2       <class 'bool'>           False   True  \n",
      "Magic Resistance              0     2       <class 'bool'>           False   True  \n",
      "Magnetism                     0     2       <class 'bool'>           False   True  \n",
      "Marksmanship                  0     2       <class 'bool'>           False   True  \n",
      "Matter Absorption             0     2       <class 'bool'>           False   True  \n",
      "Melting                       0     2       <class 'bool'>           False   True  \n",
      "Mind Blast                    0     2       <class 'bool'>           False   True  \n",
      "Mind Control                  0     2       <class 'bool'>           False   True  \n",
      "Mind Control Resistance       0     2       <class 'bool'>           False   True  \n",
      "Molecular Combustion          0     2       <class 'bool'>           False   True  \n",
      "Molecular Dissipation         0     2       <class 'bool'>           False   True  \n",
      "Molecular Manipulation        0     2       <class 'bool'>           False   True  \n",
      "Natural Armor                 0     2       <class 'bool'>           False   True  \n",
      "Natural Weapons               0     2       <class 'bool'>           False   True  \n",
      "Nova Force                    0     2       <class 'bool'>           False   True  \n",
      "Odin Force                    0     2       <class 'bool'>           False   True  \n",
      "Omnilingualism                0     2       <class 'bool'>           False   True  \n",
      "Omnipotent                    0     2       <class 'bool'>           False   True  \n",
      "Omnipresent                   0     2       <class 'bool'>           False   True  \n",
      "Omniscient                    0     2       <class 'bool'>           False   True  \n",
      "Omnitrix                      0     2       <class 'bool'>           False   True  \n",
      "Peak Human Condition          0     2       <class 'bool'>           False   True  \n",
      "Phasing                       0     2       <class 'bool'>           False   True  \n",
      "Phoenix Force                 0     2       <class 'bool'>           False   True  \n",
      "Photographic Reflexes         0     2       <class 'bool'>           False   True  \n",
      "Plant Control                 0     2       <class 'bool'>           False   True  \n",
      "Portal Creation               0     2       <class 'bool'>           False   True  \n",
      "Possession                    0     2       <class 'bool'>           False   True  \n",
      "Power Absorption              0     2       <class 'bool'>           False   True  \n",
      "Power Augmentation            0     2       <class 'bool'>           False   True  \n",
      "Power Cosmic                  0     2       <class 'bool'>           False   True  \n",
      "Power Nullifier               0     2       <class 'bool'>           False   True  \n",
      "Power Sense                   0     2       <class 'bool'>           False   True  \n",
      "Power Suit                    0     2       <class 'bool'>           False   True  \n",
      "Precognition                  0     2       <class 'bool'>           False   True  \n",
      "Probability Manipulation      0     2       <class 'bool'>           False   True  \n",
      "Projection                    0     2       <class 'bool'>           False   True  \n",
      "Psionic Powers                0     2       <class 'bool'>           False   True  \n",
      "Publisher                     12    25      <class 'object'>         None    None  \n",
      "Qwardian Power Ring           0     2       <class 'bool'>           False   True  \n",
      "Race                          247   61      <class 'object'>         None    None  \n",
      "Radar Sense                   0     2       <class 'bool'>           False   True  \n",
      "Radiation Absorption          0     2       <class 'bool'>           False   True  \n",
      "Radiation Control             0     2       <class 'bool'>           False   True  \n",
      "Radiation Immunity            0     2       <class 'bool'>           False   True  \n",
      "Reality Warping               0     2       <class 'bool'>           False   True  \n",
      "Reflexes                      0     2       <class 'bool'>           False   True  \n",
      "Regeneration                  0     2       <class 'bool'>           False   True  \n",
      "Resurrection                  0     2       <class 'bool'>           False   True  \n",
      "Seismic Power                 0     2       <class 'bool'>           False   True  \n",
      "Self-Sustenance               0     2       <class 'bool'>           False   True  \n",
      "Shapeshifting                 0     2       <class 'bool'>           False   True  \n",
      "Size Changing                 0     2       <class 'bool'>           False   True  \n",
      "Skin color                    581   17      <class 'object'>         None    None  \n",
      "Sonar                         0     2       <class 'bool'>           False   True  \n",
      "Sonic Scream                  0     2       <class 'bool'>           False   True  \n",
      "Spatial Awareness             0     2       <class 'bool'>           False   True  \n",
      "Speed Force                   0     2       <class 'bool'>           False   True  \n",
      "Stamina                       0     2       <class 'bool'>           False   True  \n",
      "Stealth                       0     2       <class 'bool'>           False   True  \n",
      "Sub-Mariner                   0     2       <class 'bool'>           False   True  \n",
      "Substance Secretion           0     2       <class 'bool'>           False   True  \n",
      "Summoning                     0     2       <class 'bool'>           False   True  \n",
      "Super Breath                  0     2       <class 'bool'>           False   True  \n",
      "Super Speed                   0     2       <class 'bool'>           False   True  \n",
      "Super Strength                0     2       <class 'bool'>           False   True  \n",
      "Symbiote Costume              0     2       <class 'bool'>           False   True  \n",
      "Technopath/Cyberpath          0     2       <class 'bool'>           False   True  \n",
      "Telekinesis                   0     2       <class 'bool'>           False   True  \n",
      "Telepathy                     0     2       <class 'bool'>           False   True  \n",
      "Telepathy Resistance          0     2       <class 'bool'>           False   True  \n",
      "Teleportation                 0     2       <class 'bool'>           False   True  \n",
      "Terrakinesis                  0     2       <class 'bool'>           False   True  \n",
      "The Force                     0     2       <class 'bool'>           False   True  \n",
      "Thirstokinesis                0     2       <class 'bool'>           False   True  \n",
      "Time Manipulation             0     2       <class 'bool'>           False   True  \n",
      "Time Travel                   0     2       <class 'bool'>           False   True  \n",
      "Toxin and Disease Control     0     2       <class 'bool'>           False   True  \n",
      "Toxin and Disease Resistance  0     2       <class 'bool'>           False   True  \n",
      "Underwater breathing          0     2       <class 'bool'>           False   True  \n",
      "Vision - Cryo                 0     2       <class 'bool'>           False   True  \n",
      "Vision - Heat                 0     2       <class 'bool'>           False   True  \n",
      "Vision - Infrared             0     2       <class 'bool'>           False   True  \n",
      "Vision - Microscopic          0     2       <class 'bool'>           False   True  \n",
      "Vision - Night                0     2       <class 'bool'>           False   True  \n",
      "Vision - Telescopic           0     2       <class 'bool'>           False   True  \n",
      "Vision - Thermal              0     2       <class 'bool'>           False   True  \n",
      "Vision - X-Ray                0     2       <class 'bool'>           False   True  \n",
      "Vitakinesis                   0     2       <class 'bool'>           False   True  \n",
      "Wallcrawling                  0     2       <class 'bool'>           False   True  \n",
      "Water Control                 0     2       <class 'bool'>           False   True  \n",
      "Weapon-based Powers           0     2       <class 'bool'>           False   True  \n",
      "Weapons Master                0     2       <class 'bool'>           False   True  \n",
      "Weather Control               0     2       <class 'bool'>           False   True  \n",
      "Web Creation                  0     2       <class 'bool'>           False   True  \n",
      "Weight                        2     132     <class 'numpy.float64'> -99      900   \n",
      "Wind Control                  0     2       <class 'bool'>           False   True  \n",
      "train                         0     2       <class 'numpy.int64'>    0       1     \n"
     ]
    }
   ],
   "source": [
    "csv = load_data()\n",
    "stats = get_stats(csv)\n",
    "# print(*(stats[\"val_type\"].unique()),sep=\"\\n\")\n",
    "with pd.option_context('display.max_rows', 500, 'display.max_columns', 500, 'display.width', 1000):\n",
    "    print(stats)"
   ]
  },
  {
   "cell_type": "markdown",
   "metadata": {},
   "source": [
    "# Prepare Data"
   ]
  },
  {
   "cell_type": "markdown",
   "metadata": {},
   "source": [
    "## Feature engeneering"
   ]
  },
  {
   "cell_type": "code",
   "execution_count": null,
   "metadata": {},
   "outputs": [],
   "source": []
  },
  {
   "cell_type": "markdown",
   "metadata": {},
   "source": [
    "## Data Split"
   ]
  },
  {
   "cell_type": "code",
   "execution_count": null,
   "metadata": {},
   "outputs": [],
   "source": []
  },
  {
   "cell_type": "markdown",
   "metadata": {},
   "source": [
    "# Model Selection"
   ]
  },
  {
   "cell_type": "code",
   "execution_count": null,
   "metadata": {},
   "outputs": [],
   "source": []
  },
  {
   "cell_type": "markdown",
   "metadata": {},
   "source": [
    "# Full Training"
   ]
  },
  {
   "cell_type": "code",
   "execution_count": null,
   "metadata": {},
   "outputs": [],
   "source": []
  },
  {
   "cell_type": "markdown",
   "metadata": {},
   "source": [
    "# Generating Output File"
   ]
  },
  {
   "cell_type": "code",
   "execution_count": null,
   "metadata": {},
   "outputs": [],
   "source": []
  }
 ],
 "metadata": {
  "kernelspec": {
   "display_name": "Python 3",
   "language": "python",
   "name": "python3"
  },
  "language_info": {
   "codemirror_mode": {
    "name": "ipython",
    "version": 3
   },
   "file_extension": ".py",
   "mimetype": "text/x-python",
   "name": "python",
   "nbconvert_exporter": "python",
   "pygments_lexer": "ipython3",
   "version": "3.7.3"
  },
  "toc": {
   "base_numbering": 1,
   "nav_menu": {},
   "number_sections": true,
   "sideBar": true,
   "skip_h1_title": false,
   "title_cell": "Table of Contents",
   "title_sidebar": "Contents",
   "toc_cell": false,
   "toc_position": {},
   "toc_section_display": true,
   "toc_window_display": false
  }
 },
 "nbformat": 4,
 "nbformat_minor": 2
}
